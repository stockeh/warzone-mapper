{
 "cells": [
  {
   "cell_type": "code",
   "execution_count": 47,
   "source": [
    "import numpy as np\n",
    "import requests\n",
    "import os\n",
    "import re"
   ],
   "outputs": [],
   "metadata": {}
  },
  {
   "cell_type": "code",
   "execution_count": 20,
   "source": [
    "domain = 'https://app.sbmmwarzone.com'\n",
    "username = 'stockeh'\n",
    "platform = 'acti'\n",
    "endpoint = os.path.join(domain, f'player/match/?username={username}&platform={platform}')\n",
    "matches  = requests.get(endpoint).json()"
   ],
   "outputs": [],
   "metadata": {}
  },
  {
   "cell_type": "code",
   "execution_count": 62,
   "source": [
    "results = []\n",
    "pattern = re.compile(r'(?<!^)(?=[A-Z])')\n",
    "weekly_mode_titles = [pattern.sub('_', k).lower() for k in weekly_mode_keys]\n",
    "\n",
    "weekly_modes = ['br_brsolo', 'br_brduos', 'br_brtrios', 'br_brquads']\n",
    "weekly_mode_keys = ['kills', 'deaths', 'damageDone', 'damageTaken', 'headshots', \n",
    "                    'gulagKills', 'gulagDeaths', 'scorePerMinute', 'matchesPlayed']\n",
    "\n",
    "lifetime_keys = ['wins', 'kills', 'deaths', 'topFive', 'topTen', 'topTwentyFive',\n",
    "                 'scorePerMinute', 'revives', 'contracts', 'timePlayed', 'gamesPlayed']\n",
    "\n",
    "# for m in matches:\n",
    "#     m_id = m['id']\n",
    "#     endpoint = os.path.join(domain, f'?matchId={m_id}')\n",
    "#     m_data = requests.get(endpoint).json()\n",
    "    \n",
    "#     break"
   ],
   "outputs": [],
   "metadata": {}
  },
  {
   "cell_type": "code",
   "execution_count": 59,
   "source": [
    "m_data['data']['players'][0]['playerStat']['lifetime']['mode']['br']['properties']"
   ],
   "outputs": [
    {
     "output_type": "execute_result",
     "data": {
      "text/plain": [
       "{'cash': 0,\n",
       " 'wins': 1,\n",
       " 'kills': 252,\n",
       " 'score': 368775,\n",
       " 'deaths': 537,\n",
       " 'topTen': 29,\n",
       " 'kdRatio': 0.4692737430167598,\n",
       " 'revives': 59,\n",
       " 'topFive': 11,\n",
       " 'contracts': 158,\n",
       " 'timePlayed': 182760,\n",
       " 'gamesPlayed': 165,\n",
       " 'topTwentyFive': 104,\n",
       " 'scorePerMinute': 121.06861457649376}"
      ]
     },
     "metadata": {},
     "execution_count": 59
    }
   ],
   "metadata": {}
  },
  {
   "cell_type": "code",
   "execution_count": 63,
   "source": [
    "for player in m_data['data']['players']:\n",
    "    result = dict()\n",
    "    weekly = player['playerStat']['weekly']\n",
    "    for mode in weekly_modes:\n",
    "        for mode_key in weekly_mode_keys:\n",
    "            k = f'{mode.split}_{mode_key}'\n",
    "            result[k] = weekly['mode'][mode]['properties'][mode_key]\n",
    "    lifetime = player['playerStat']['lifetime']['mode']['br']['properties']\n",
    "    for lifetime_key in lifetime_keys:\n",
    "        result[lifetime_key] = lifetime[lifetime_key]\n",
    "    break"
   ],
   "outputs": [],
   "metadata": {}
  },
  {
   "cell_type": "code",
   "execution_count": 64,
   "source": [
    "result"
   ],
   "outputs": [
    {
     "output_type": "execute_result",
     "data": {
      "text/plain": [
       "{'<built-in method split of str object at 0x7fdf602b87f0>_kills': 1,\n",
       " '<built-in method split of str object at 0x7fdf602b87f0>_deaths': 3,\n",
       " '<built-in method split of str object at 0x7fdf602b87f0>_damageDone': 609,\n",
       " '<built-in method split of str object at 0x7fdf602b87f0>_damageTaken': 300,\n",
       " '<built-in method split of str object at 0x7fdf602b87f0>_headshots': 0,\n",
       " '<built-in method split of str object at 0x7fdf602b87f0>_gulagKills': 1,\n",
       " '<built-in method split of str object at 0x7fdf602b87f0>_gulagDeaths': 1,\n",
       " '<built-in method split of str object at 0x7fdf602b87f0>_scorePerMinute': 25.393600812595228,\n",
       " '<built-in method split of str object at 0x7fdf602b87f0>_matchesPlayed': 3,\n",
       " '<built-in method split of str object at 0x7fdf602b8af0>_kills': 28,\n",
       " '<built-in method split of str object at 0x7fdf602b8af0>_deaths': 35,\n",
       " '<built-in method split of str object at 0x7fdf602b8af0>_damageDone': 9931,\n",
       " '<built-in method split of str object at 0x7fdf602b8af0>_damageTaken': 7497,\n",
       " '<built-in method split of str object at 0x7fdf602b8af0>_headshots': 4,\n",
       " '<built-in method split of str object at 0x7fdf602b8af0>_gulagKills': 4,\n",
       " '<built-in method split of str object at 0x7fdf602b8af0>_gulagDeaths': 15,\n",
       " '<built-in method split of str object at 0x7fdf602b8af0>_scorePerMinute': 73.45588235294119,\n",
       " '<built-in method split of str object at 0x7fdf602b8af0>_matchesPlayed': 17,\n",
       " '<built-in method split of str object at 0x7fdf602b8eb0>_kills': 29,\n",
       " '<built-in method split of str object at 0x7fdf602b8eb0>_deaths': 58,\n",
       " '<built-in method split of str object at 0x7fdf602b8eb0>_damageDone': 11595,\n",
       " '<built-in method split of str object at 0x7fdf602b8eb0>_damageTaken': 14436,\n",
       " '<built-in method split of str object at 0x7fdf602b8eb0>_headshots': 8,\n",
       " '<built-in method split of str object at 0x7fdf602b8eb0>_gulagKills': 8,\n",
       " '<built-in method split of str object at 0x7fdf602b8eb0>_gulagDeaths': 28,\n",
       " '<built-in method split of str object at 0x7fdf602b8eb0>_scorePerMinute': 66.11217908966886,\n",
       " '<built-in method split of str object at 0x7fdf602b8eb0>_matchesPlayed': 26,\n",
       " '<built-in method split of str object at 0x7fdf602b8030>_kills': 13,\n",
       " '<built-in method split of str object at 0x7fdf602b8030>_deaths': 32,\n",
       " '<built-in method split of str object at 0x7fdf602b8030>_damageDone': 6756,\n",
       " '<built-in method split of str object at 0x7fdf602b8030>_damageTaken': 8063,\n",
       " '<built-in method split of str object at 0x7fdf602b8030>_headshots': 2,\n",
       " '<built-in method split of str object at 0x7fdf602b8030>_gulagKills': 3,\n",
       " '<built-in method split of str object at 0x7fdf602b8030>_gulagDeaths': 19,\n",
       " '<built-in method split of str object at 0x7fdf602b8030>_scorePerMinute': 40.8340843407191,\n",
       " '<built-in method split of str object at 0x7fdf602b8030>_matchesPlayed': 12,\n",
       " 'wins': 1,\n",
       " 'kills': 252,\n",
       " 'deaths': 537,\n",
       " 'topFive': 11,\n",
       " 'topTen': 29,\n",
       " 'topTwentyFive': 104,\n",
       " 'scorePerMinute': 121.06861457649376,\n",
       " 'revives': 59,\n",
       " 'contracts': 158,\n",
       " 'timePlayed': 182760,\n",
       " 'gamesPlayed': 165}"
      ]
     },
     "metadata": {},
     "execution_count": 64
    }
   ],
   "metadata": {}
  }
 ],
 "metadata": {
  "kernelspec": {
   "display_name": "Python 3",
   "language": "python",
   "name": "python3"
  },
  "language_info": {
   "codemirror_mode": {
    "name": "ipython",
    "version": 3
   },
   "file_extension": ".py",
   "mimetype": "text/x-python",
   "name": "python",
   "nbconvert_exporter": "python",
   "pygments_lexer": "ipython3",
   "version": "3.8.10"
  }
 },
 "nbformat": 4,
 "nbformat_minor": 4
}